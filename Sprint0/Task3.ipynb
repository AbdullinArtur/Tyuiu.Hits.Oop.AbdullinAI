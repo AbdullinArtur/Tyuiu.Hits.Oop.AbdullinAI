{
 "cells": [
  {
   "cell_type": "markdown",
   "metadata": {},
   "source": [
    "<h1 style=\"color:DodgerBlue\">Индивидальный проект</h1>"
   ]
  },
  {
   "cell_type": "markdown",
   "metadata": {},
   "source": [
    "<h2 style=\"color:DodgerBlue\">Название проекта:</h2>\n",
    "\n",
    "----\n",
    "\n",
    "### Вариант задания \n",
    "Вариант задания № 1\n",
    "\n",
    "Описание задачи:\n",
    "Создать базовый класс Person в C#, который будет представлять информацию о\n",
    "человеке. На основе этого класса разработать 2-3 производных класса,\n",
    "демонстрирующих принципы наследования и полиморфизма. В каждом из классов\n",
    "должны быть реализованы новые атрибуты и методы, а также переопределены\n",
    "некоторые методы базового класса для демонстрации полиморфизма.\n",
    "Требования к базовому классу Person:\n",
    "• Атрибуты: Имя (Name), Возраст (Age), Пол (Gender).\n",
    "• Методы:\n",
    "o GetInfo(): метод для получения информации о человеке в виде строки.\n",
    "o SayHello(): метод для вывода приветствия от человека.\n",
    "Требования к производным классам:\n",
    "1. Студент (Student): Должен содержать дополнительные атрибуты, такие как\n",
    "Университет (University) и Курс (Course). Метод SayHello() должен быть\n",
    "переопределен для добавления информации о курсе при приветствии.\n",
    "2. Работник (Employee): Должен содержать дополнительные атрибуты, такие\n",
    "как Компания (Company) и Зарплата (Salary). Метод GetInfo() должен быть\n",
    "переопределен для включения информации о компании и зарплате.\n",
    "3. Преподаватель (Teacher) (если требуется третий класс): Должен содержать\n",
    "дополнительные атрибуты, такие как Предмет (Subject) и Стаж работы\n",
    "(Experience). Метод SayHello() должен быть переопределен для добавления\n",
    "информации о преподаваемом предмете при приветствии."
   ]
  },
  {
   "cell_type": "markdown",
   "metadata": {},
   "source": [
    "<h2 style=\"color:DodgerBlue\">Описание проекта:</h2>\n",
    "\n",
    "----\n",
    "\n",
    "[ваш текст]\n"
   ]
  },
  {
   "cell_type": "markdown",
   "metadata": {},
   "source": [
    "<h2 style=\"color:DodgerBlue\">Реализация:</h2>\n",
    "\n",
    "----"
   ]
  },
  {
   "cell_type": "code",
   "execution_count": 2,
   "metadata": {
    "dotnet_interactive": {
     "language": "csharp"
    },
    "polyglot_notebook": {
     "kernelName": "csharp"
    }
   },
   "outputs": [
    {
     "name": "stdout",
     "output_type": "stream",
     "text": [
      "Привет, меня зовут Артур!\n",
      "Информация обо мне: возраст - 18, пол - Мужской\n",
      "Также я учусь в университете  на  курсе!\n",
      "Я работаю в компании - Google Company и получаю ЗП в размере - 10000$\n"
     ]
    }
   ],
   "source": [
    "class Person\n",
    "{\n",
    "    public string name;\n",
    "    public string age;\n",
    "    public string gender;\n",
    "\n",
    "    public virtual void SayHello()\n",
    "    {\n",
    "        Console.WriteLine($\"Привет, меня зовут {name}!\");\n",
    "    }\n",
    "\n",
    "    public virtual void GetInfo()\n",
    "    {\n",
    "        Console.WriteLine($\"Информация обо мне: возраст - {age}, пол - {gender}\");\n",
    "    }\n",
    "};\n",
    "\n",
    "class Student : Person\n",
    "{\n",
    "    public string university;\n",
    "    public string course;\n",
    "\n",
    "    public override void SayHello()\n",
    "    {\n",
    "        Console.WriteLine($\"Также я учусь в университете {university} на {course} курсе!\");\n",
    "    }\n",
    "};\n",
    "\n",
    "Person person = new Person();\n",
    "\n",
    "person.name = \"Артур\";\n",
    "person.age = \"18\";\n",
    "person.gender = \"Мужской\";\n",
    "\n",
    "\n",
    "person.SayHello();\n",
    "person.GetInfo();\n",
    "\n",
    "Student student = new Student();\n",
    "student.university = \"ТИУ\";\n",
    "student.course = \"2\";\n",
    "student.SayHello();\n",
    "\n",
    "\n",
    "\n",
    "class Employee : Person\n",
    "{\n",
    "    public string company;\n",
    "    public string salary;\n",
    "\n",
    "    public override void GetInfo()\n",
    "    {\n",
    "        Console.WriteLine($\"Я работаю в компании - {company} и получаю ЗП в размере - {salary}\");\n",
    "    }\n",
    "};\n",
    "\n",
    "Employee employee = new Employee();\n",
    "\n",
    "employee.company = \"Google Company\";\n",
    "employee.salary = \"10000$\";\n",
    "\n",
    "employee.GetInfo();\n"
   ]
  }
 ],
 "metadata": {
  "kernelspec": {
   "display_name": ".NET (C#)",
   "language": "C#",
   "name": ".net-csharp"
  },
  "polyglot_notebook": {
   "kernelInfo": {
    "defaultKernelName": "csharp",
    "items": [
     {
      "aliases": [],
      "languageName": "csharp",
      "name": "csharp"
     }
    ]
   }
  }
 },
 "nbformat": 4,
 "nbformat_minor": 2
}
